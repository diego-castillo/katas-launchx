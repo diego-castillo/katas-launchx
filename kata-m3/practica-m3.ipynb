{
 "cells": [
  {
   "cell_type": "markdown",
   "metadata": {},
   "source": [
    "# Problema #1"
   ]
  },
  {
   "cell_type": "code",
   "execution_count": 13,
   "metadata": {},
   "outputs": [
    {
     "name": "stdout",
     "output_type": "stream",
     "text": [
      "¡Cuidado! Evacuen la tierra\n"
     ]
    }
   ],
   "source": [
    "# Variables\n",
    "velocidad_asteroide = 49\n",
    "velocidad_limite = 25\n",
    "\n",
    "# Si la velocidad del asteroide es mayor a la permitida\n",
    "if velocidad_asteroide > velocidad_limite :\n",
    "    print(\"¡Cuidado! Evacuen la tierra\")\n",
    "else:\n",
    "    print(\"La tierra esta segura\")"
   ]
  },
  {
   "cell_type": "markdown",
   "metadata": {},
   "source": [
    "# Problema #2"
   ]
  },
  {
   "cell_type": "code",
   "execution_count": 1,
   "metadata": {},
   "outputs": [
    {
     "name": "stdout",
     "output_type": "stream",
     "text": [
      "No hay ninguna luz emitida\n"
     ]
    }
   ],
   "source": [
    "# Variables\n",
    "velocidad_asteroide = 19\n",
    "velocidad_limite = 20\n",
    "\n",
    "# Si la velocidad del asteroide es mayor\n",
    "if velocidad_asteroide > velocidad_limite:\n",
    "    print(\"Busquen los rayos de luz emitidos por el asteroide\")\n",
    "# Si la velocidad del asteroide es igual\n",
    "elif velocidad_asteroide == velocidad_limite:\n",
    "    print(\"Busquen los rayos de luz emitidos por el asteroide\")\n",
    "# De lo contrario\n",
    "else: \n",
    "    print(\"No hay ninguna luz emitida\")"
   ]
  },
  {
   "cell_type": "markdown",
   "metadata": {},
   "source": [
    "# Problema #3"
   ]
  },
  {
   "cell_type": "code",
   "execution_count": 20,
   "metadata": {},
   "outputs": [
    {
     "name": "stdout",
     "output_type": "stream",
     "text": [
      "Hay una luz en cielo\n"
     ]
    }
   ],
   "source": [
    "# Variables\n",
    "tamano_asteroide = 25\n",
    "velocidad_asteroide = 40\n",
    "tamano_limite = 25\n",
    "velocidad_limite = 25\n",
    "luz_asteroide = 20\n",
    "\n",
    "# Si la velocidad del asteroide es mayor al limite y el t\n",
    "if velocidad_asteroide > tamano_limite and tamano_asteroide > velocidad_limite:\n",
    "    print(\"Moriremos, un asteroide se acerca\")\n",
    "elif velocidad_asteroide >= luz_asteroide:\n",
    "    print(\"Hay una luz en cielo\")\n",
    "elif tamano_asteroide < tamano_limite:\n",
    "    print(\"Viviremos\")\n",
    "else:\n",
    "    print(\"Viviremos\")"
   ]
  }
 ],
 "metadata": {
  "interpreter": {
   "hash": "31f2aee4e71d21fbe5cf8b01ff0e069b9275f58929596ceb00d14d90e3e16cd6"
  },
  "kernelspec": {
   "display_name": "Python 3.8.9 64-bit",
   "language": "python",
   "name": "python3"
  },
  "language_info": {
   "codemirror_mode": {
    "name": "ipython",
    "version": 3
   },
   "file_extension": ".py",
   "mimetype": "text/x-python",
   "name": "python",
   "nbconvert_exporter": "python",
   "pygments_lexer": "ipython3",
   "version": "3.8.9"
  },
  "orig_nbformat": 4
 },
 "nbformat": 4,
 "nbformat_minor": 2
}
